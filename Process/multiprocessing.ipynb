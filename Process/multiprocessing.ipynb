{
 "cells": [
  {
   "cell_type": "code",
   "execution_count": 1,
   "metadata": {
    "collapsed": false
   },
   "outputs": [
    {
     "name": "stdout",
     "output_type": "stream",
     "text": [
      "Process (4454) start...\n"
     ]
    }
   ],
   "source": [
    "import os\n",
    "\n",
    "print('Process (%s) start...' % os.getpid())\n",
    "\n",
    "# pid = os.fork()\n",
    "# if pid == 0:\n",
    "#     print('I am child process (%s) and my parent is (%s)' % (os.getpid(), os.getpid()))\n",
    "# else:\n",
    "#     print('I just create a child process (%s)' % (os.getpid()))\n"
   ]
  },
  {
   "cell_type": "code",
   "execution_count": 3,
   "metadata": {},
   "outputs": [
    {
     "name": "stdout",
     "output_type": "stream",
     "text": [
      "Parent process (4454)...\nChild process will start...\n"
     ]
    },
    {
     "name": "stdout",
     "output_type": "stream",
     "text": [
      "Run child process (test) (4794)...\n"
     ]
    },
    {
     "name": "stdout",
     "output_type": "stream",
     "text": [
      "Child process end.\n"
     ]
    }
   ],
   "source": [
    "import multiprocessing as mp\n",
    "import os\n",
    "\n",
    "#   子进程需要执行的代码\n",
    "def run_proc(name):\n",
    "    print('Run child process (%s) (%s)...' % (name, os.getpid()))\n",
    "\n",
    "if __name__ == '__main__':\n",
    "    print('Parent process (%s)...' % os.getpid())\n",
    "    p = mp.Process(target=run_proc, args=('test',))\n",
    "    print('Child process will start...')\n",
    "    p.start()\n",
    "    p.join()\n",
    "    print('Child process end.')"
   ]
  },
  {
   "cell_type": "code",
   "execution_count": 6,
   "metadata": {},
   "outputs": [
    {
     "name": "stdout",
     "output_type": "stream",
     "text": [
      "Parent process (4454).\n"
     ]
    },
    {
     "name": "stdout",
     "output_type": "stream",
     "text": [
      "Run task 1 (5230)...\n"
     ]
    },
    {
     "name": "stdout",
     "output_type": "stream",
     "text": [
      "Run task 3 (5232)...\n"
     ]
    },
    {
     "name": "stdout",
     "output_type": "stream",
     "text": [
      "Run task 2 (5231)...\n"
     ]
    },
    {
     "name": "stdout",
     "output_type": "stream",
     "text": [
      "Run task 6 (5235)...\n"
     ]
    },
    {
     "name": "stdout",
     "output_type": "stream",
     "text": [
      "Run task 0 (5229)...\n"
     ]
    },
    {
     "name": "stdout",
     "output_type": "stream",
     "text": [
      "Run task 5 (5234)...\n"
     ]
    },
    {
     "name": "stdout",
     "output_type": "stream",
     "text": [
      "Run task 7 (5236)...\n"
     ]
    },
    {
     "name": "stdout",
     "output_type": "stream",
     "text": [
      "Run task 4 (5233)...\n"
     ]
    },
    {
     "name": "stdout",
     "output_type": "stream",
     "text": [
      "Tast 1 runs 0.18 seconds.\n"
     ]
    },
    {
     "name": "stdout",
     "output_type": "stream",
     "text": [
      "Run task 8 (5230)...\n"
     ]
    },
    {
     "name": "stdout",
     "output_type": "stream",
     "text": [
      "Waiting for all process done\n"
     ]
    },
    {
     "name": "stdout",
     "output_type": "stream",
     "text": [
      "Tast 2 runs 0.56 seconds.\n"
     ]
    },
    {
     "name": "stdout",
     "output_type": "stream",
     "text": [
      "Tast 6 runs 0.75 seconds.\n"
     ]
    },
    {
     "name": "stdout",
     "output_type": "stream",
     "text": [
      "Tast 3 runs 0.77 seconds.\n"
     ]
    },
    {
     "name": "stdout",
     "output_type": "stream",
     "text": [
      "Tast 4 runs 0.89 seconds.\n"
     ]
    },
    {
     "name": "stdout",
     "output_type": "stream",
     "text": [
      "Tast 0 runs 1.58 seconds.\n"
     ]
    },
    {
     "name": "stdout",
     "output_type": "stream",
     "text": [
      "Tast 5 runs 2.00 seconds.\n"
     ]
    },
    {
     "name": "stdout",
     "output_type": "stream",
     "text": [
      "Tast 7 runs 2.18 seconds.\n"
     ]
    },
    {
     "name": "stdout",
     "output_type": "stream",
     "text": [
      "Tast 8 runs 2.71 seconds.\n"
     ]
    },
    {
     "name": "stdout",
     "output_type": "stream",
     "text": [
      "all process done\n"
     ]
    }
   ],
   "source": [
    "#   如果需要启动大量的子进程，　可以使用进程池的方式批量创建子进程\n",
    "\n",
    "import multiprocessing as mp\n",
    "import os, time, random\n",
    "\n",
    "def long_time_task(name):\n",
    "    print('Run task %s (%s)...' % (name, os.getpid()))\n",
    "    start = time.time()\n",
    "    time.sleep(random.random() * 3)\n",
    "    end = time.time()\n",
    "    print('Tast %s runs %0.2f seconds.' % (name, (end-start)))\n",
    "    \n",
    "if __name__ == '__main__':\n",
    "    print('Parent process (%s).' % (os.getpid()))\n",
    "    p = mp.Pool(8)  # CPU 核数\n",
    "    for i in range(9):  # 最多支持最大CPU核数进程并行运算\n",
    "        p.apply_async(long_time_task, args=(i,))\n",
    "    print('Waiting for all process done')\n",
    "    p.close()\n",
    "    p.join()\n",
    "    print('all process done')\n"
   ]
  },
  {
   "cell_type": "code",
   "execution_count": 11,
   "metadata": {},
   "outputs": [
    {
     "name": "stdout",
     "output_type": "stream",
     "text": [
      "Process to write: 6049\n"
     ]
    },
    {
     "name": "stdout",
     "output_type": "stream",
     "text": [
      "Put A to queue...\n"
     ]
    },
    {
     "name": "stdout",
     "output_type": "stream",
     "text": [
      "Put B to queue...\n"
     ]
    },
    {
     "name": "stdout",
     "output_type": "stream",
     "text": [
      "Process to read: 6050\n"
     ]
    },
    {
     "name": "stdout",
     "output_type": "stream",
     "text": [
      "Put C to queue...\n"
     ]
    },
    {
     "name": "stdout",
     "output_type": "stream",
     "text": [
      "Get A from queue.\n"
     ]
    }
   ],
   "source": [
    "#   Process 之间的通信\n",
    "#   通信方式有Queue, Pipes等\n",
    "#   以Queue为例,　一个进程往Queue写数据, 一个从Queue里读数据\n",
    "\n",
    "import multiprocessing as mp\n",
    "import os, time, random\n",
    "\n",
    "def write(q):\n",
    "    print('Process to write: %s' % os.getpid())\n",
    "    for value in ['A', 'B', 'C']:\n",
    "        print('Put %s to queue...' % value)\n",
    "        q.put(value)\n",
    "        time.sleep(random.random())\n",
    "\n",
    "def read(q):\n",
    "    print('Process to read: %s' % os.getpid())\n",
    "    while True:\n",
    "        value = q.get(True)\n",
    "        print('Get %s from queue.' % value)\n",
    "        \n",
    "if __name__ == '__main__':\n",
    "    q = mp.Queue()\n",
    "    pw = mp.Process(target=write, args=(q,))\n",
    "    pr = mp.Process(target=read, args=(q,))\n",
    "    pw.start()\n",
    "    pr.start()\n",
    "    pw.join()\n",
    "    #   pr进程里是死循环，　无法等待其结束，只能强行终止\n",
    "    pr.terminate()"
   ]
  },
  {
   "cell_type": "code",
   "execution_count": 21,
   "metadata": {},
   "outputs": [
    {
     "name": "stdout",
     "output_type": "stream",
     "text": [
      "w1 finished\n"
     ]
    },
    {
     "name": "stdout",
     "output_type": "stream",
     "text": [
      "w2 finished\n"
     ]
    },
    {
     "name": "stdout",
     "output_type": "stream",
     "text": [
      "100\n"
     ]
    }
   ],
   "source": [
    "import multiprocessing as mp\n",
    "import os\n",
    "\n",
    "def write1(q):\n",
    "    res = 100\n",
    "    q.put(res)\n",
    "    print('w1 finished')\n",
    "    \n",
    "def write2(q):\n",
    "    res = 200\n",
    "    q.put(res)\n",
    "    print('w2 finished')\n",
    "    \n",
    "if __name__ == '__main__':\n",
    "    q = mp.Queue()\n",
    "    w1 = mp.Process(target=write1, args=(q,))\n",
    "    w2 = mp.Process(target=write2, args=(q,))\n",
    "    \n",
    "    w1.start()\n",
    "    w2.start()\n",
    "    w1.join()\n",
    "    w2.join()\n",
    "    res1 = q.get()  #   Queue: first in first out\n",
    "    # res2 = q.get()\n",
    "    print(res1)\n",
    "    "
   ]
  },
  {
   "cell_type": "code",
   "execution_count": 64,
   "metadata": {},
   "outputs": [
    {
     "name": "stdout",
     "output_type": "stream",
     "text": [
      "0\n"
     ]
    }
   ],
   "source": [
    "import multiprocessing as mp\n",
    "import threading as td\n",
    "import time\n",
    "\n",
    "\"\"\"\n",
    "语法解释：\n",
    "\n",
    "try:\n",
    "\n",
    "     表达式 1（如果表达式，可以成功执行，则执行，跳到 finally 语句）\n",
    "\n",
    "except ExpectErrorType, Argument:   （表达式1 没有做成功，且正好是 ExpectErrorType 的错误情况，则执行）\n",
    "\n",
    "     表达式2 （如何处理这种异常情况）\n",
    "\n",
    "else:  （try succ && 上面 except 语句任一满足 ）之外的情况处理方法\n",
    "\n",
    "  .....\n",
    "\n",
    "finally:\n",
    "\n",
    "    .... 无论什么情况都会的处理\n",
    "\n",
    "\"\"\"\n",
    "\n",
    "def bank(n):\n",
    "    n.value += 100\n",
    "    n.value -= 100\n",
    "\n",
    "def run(n, lock):\n",
    "    for i in range(1000000):\n",
    "        lock.acquire()\n",
    "        try:\n",
    "            bank(n)\n",
    "        finally:\n",
    "            lock.release()\n",
    "\n",
    "if __name__ == '__main__':\n",
    "    # t1 = td.Thread(target=run, args=(100,))\n",
    "    # t2 = td.Thread(target=run, args=(200,))\n",
    "    lock = mp.Lock()\n",
    "    v = mp.Value('i', 0)\n",
    "    t1 = mp.Process(target=run, args=(v, lock))\n",
    "    t2 = mp.Process(target=run, args=(v, lock))\n",
    "    t1.start()\n",
    "    t2.start()\n",
    "    t1.join()\n",
    "    t2.join()\n",
    "    print(v.value)"
   ]
  }
 ],
 "metadata": {
  "kernelspec": {
   "display_name": "Python 2",
   "language": "python",
   "name": "python2"
  },
  "language_info": {
   "codemirror_mode": {
    "name": "ipython",
    "version": 2
   },
   "file_extension": ".py",
   "mimetype": "text/x-python",
   "name": "python",
   "nbconvert_exporter": "python",
   "pygments_lexer": "ipython2",
   "version": "2.7.6"
  }
 },
 "nbformat": 4,
 "nbformat_minor": 0
}
